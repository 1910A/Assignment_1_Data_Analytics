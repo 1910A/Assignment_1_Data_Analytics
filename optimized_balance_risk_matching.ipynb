{
 "cells": [
  {
   "cell_type": "code",
   "execution_count": null,
   "id": "d769d9ab-28d7-4bb9-a678-9abf89ea884b",
   "metadata": {},
   "outputs": [
    {
     "name": "stdout",
     "output_type": "stream",
     "text": [
      "Matched Pairs: [(0, 9), (1, 3), (2, 2), (3, 0), (4, 5), (5, 8), (6, 10), (7, 7)]\n"
     ]
    }
   ],
   "source": [
    "import numpy as np\n",
    "import pandas as pd\n",
    "from scipy.spatial.distance import mahalanobis\n",
    "from scipy.linalg import inv\n",
    "from pulp import LpMinimize, LpProblem, LpVariable, lpSum\n",
    "\n",
    "# Step 1: Defining the Matching Framework\n",
    "# Generate synthetic data for patients with repeated symptom measurements\n",
    "data = pd.DataFrame({\n",
    "    'id': range(1, 21),\n",
    "    'urgency_baseline': np.random.randint(0, 10, 20),\n",
    "    'urgency_t': np.random.randint(0, 10, 20),\n",
    "    'frequency_baseline': np.random.randint(0, 10, 20),\n",
    "    'frequency_t': np.random.randint(0, 10, 20),\n",
    "    'pain_baseline': np.random.randint(0, 10, 20),\n",
    "    'pain_t': np.random.randint(0, 10, 20),\n",
    "    'age': np.random.randint(20, 80, 20),\n",
    "    'gender': np.random.choice([0, 1], 20),  # 0 = Female, 1 = Male\n",
    "    'treated': np.random.choice([0, 1], 20)  # 1 = treated, 0 = control\n",
    "})\n",
    "\n",
    "# Step 2: Risk Set Matching\n",
    "# Separate treated and not-yet-treated patients\n",
    "treated = data[data['treated'] == 1].reset_index(drop=True)\n",
    "control = data[data['treated'] == 0].reset_index(drop=True)\n",
    "\n",
    "# Compute covariance matrix and inverse for Mahalanobis distance\n",
    "cov_matrix = np.cov(data[['urgency_baseline', 'urgency_t', 'frequency_baseline', 'frequency_t', 'pain_baseline', 'pain_t']].T)\n",
    "cov_inv = inv(cov_matrix)\n",
    "\n",
    "def compute_distance_matrix(treated, control):\n",
    "    \"\"\"Computes Mahalanobis distance matrix between treated and control groups.\"\"\"\n",
    "    distances = {}\n",
    "    for i, t in treated.iterrows():\n",
    "        for j, c in control.iterrows():\n",
    "            dist = mahalanobis(t[['urgency_baseline', 'urgency_t', 'frequency_baseline', 'frequency_t', 'pain_baseline', 'pain_t']], \n",
    "                               c[['urgency_baseline', 'urgency_t', 'frequency_baseline', 'frequency_t', 'pain_baseline', 'pain_t']], \n",
    "                               cov_inv)\n",
    "            distances[(i, j)] = dist\n",
    "    return distances\n",
    "\n",
    "# Compute distance matrix\n",
    "distance_matrix = compute_distance_matrix(treated, control)\n",
    "\n",
    "# Step 3: Optimal Matching via Integer Programming\n",
    "prob = LpProblem(\"Balanced_Matching\", LpMinimize)\n",
    "\n",
    "# Define decision variables\n",
    "x = {pair: LpVariable(f\"x_{pair[0]}_{pair[1]}\", cat='Binary') for pair in distance_matrix.keys()}\n",
    "\n",
    "# Objective function: Minimize total distance\n",
    "prob += lpSum(distance_matrix[pair] * x[pair] for pair in distance_matrix.keys())\n",
    "\n",
    "# Constraints: Each treated patient is matched to one control\n",
    "for i in range(len(treated)):\n",
    "    prob += lpSum(x[(i, j)] for j in range(len(control)) if (i, j) in x) == 1\n",
    "\n",
    "# Each control patient is matched at most once\n",
    "for j in range(len(control)):\n",
    "    prob += lpSum(x[(i, j)] for i in range(len(treated)) if (i, j) in x) <= 1\n",
    "\n",
    "# Step 4: Balancing Covariates\n",
    "# Enforce balance constraints on binary variables (age, gender)\n",
    "for attr in ['age', 'gender']:\n",
    "    treated_sum = lpSum(treated.loc[i, attr] * x[(i, j)] for i, j in x.keys())\n",
    "    control_sum = lpSum(control.loc[j, attr] * x[(i, j)] for i, j in x.keys())\n",
    "    prob += treated_sum == control_sum\n",
    "\n",
    "# Step 5: Ensuring Stability and Sensitivity Analysis\n",
    "# Solve the optimization problem\n",
    "prob.solve()\n",
    "\n",
    "# Extract matched pairs\n",
    "matches = [(i, j) for (i, j) in x.keys() if x[(i, j)].value() == 1]\n",
    "print(\"Matched Pairs:\", matches)"
   ]
  },
  {
   "cell_type": "code",
   "execution_count": null,
   "id": "7e510fd9-49ae-418f-9864-92bcdc646c52",
   "metadata": {},
   "outputs": [],
   "source": []
  }
 ],
 "metadata": {
  "kernelspec": {
   "display_name": "myproject_kernel",
   "language": "python",
   "name": "myproject_kernel"
  },
  "language_info": {
   "codemirror_mode": {
    "name": "ipython",
    "version": 3
   },
   "file_extension": ".py",
   "mimetype": "text/x-python",
   "name": "python",
   "nbconvert_exporter": "python",
   "pygments_lexer": "ipython3",
   "version": "3.12.0"
  }
 },
 "nbformat": 4,
 "nbformat_minor": 5
}
