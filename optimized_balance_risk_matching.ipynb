{
 "cells": [
  {
   "cell_type": "code",
   "execution_count": 4,
   "id": "d769d9ab-28d7-4bb9-a678-9abf89ea884b",
   "metadata": {},
   "outputs": [
    {
     "ename": "ModuleNotFoundError",
     "evalue": "No module named 'scipy'",
     "output_type": "error",
     "traceback": [
      "\u001b[1;31m---------------------------------------------------------------------------\u001b[0m",
      "\u001b[1;31mModuleNotFoundError\u001b[0m                       Traceback (most recent call last)",
      "Cell \u001b[1;32mIn[4], line 3\u001b[0m\n\u001b[0;32m      1\u001b[0m \u001b[38;5;28;01mimport\u001b[39;00m\u001b[38;5;250m \u001b[39m\u001b[38;5;21;01mnumpy\u001b[39;00m\u001b[38;5;250m \u001b[39m\u001b[38;5;28;01mas\u001b[39;00m\u001b[38;5;250m \u001b[39m\u001b[38;5;21;01mnp\u001b[39;00m\n\u001b[0;32m      2\u001b[0m \u001b[38;5;28;01mimport\u001b[39;00m\u001b[38;5;250m \u001b[39m\u001b[38;5;21;01mpandas\u001b[39;00m\u001b[38;5;250m \u001b[39m\u001b[38;5;28;01mas\u001b[39;00m\u001b[38;5;250m \u001b[39m\u001b[38;5;21;01mpd\u001b[39;00m\n\u001b[1;32m----> 3\u001b[0m \u001b[38;5;28;01mfrom\u001b[39;00m\u001b[38;5;250m \u001b[39m\u001b[38;5;21;01mscipy\u001b[39;00m\u001b[38;5;21;01m.\u001b[39;00m\u001b[38;5;21;01mspatial\u001b[39;00m\u001b[38;5;21;01m.\u001b[39;00m\u001b[38;5;21;01mdistance\u001b[39;00m\u001b[38;5;250m \u001b[39m\u001b[38;5;28;01mimport\u001b[39;00m mahalanobis\n\u001b[0;32m      4\u001b[0m \u001b[38;5;28;01mfrom\u001b[39;00m\u001b[38;5;250m \u001b[39m\u001b[38;5;21;01mscipy\u001b[39;00m\u001b[38;5;21;01m.\u001b[39;00m\u001b[38;5;21;01mlinalg\u001b[39;00m\u001b[38;5;250m \u001b[39m\u001b[38;5;28;01mimport\u001b[39;00m inv\n\u001b[0;32m      5\u001b[0m \u001b[38;5;28;01mfrom\u001b[39;00m\u001b[38;5;250m \u001b[39m\u001b[38;5;21;01mpulp\u001b[39;00m\u001b[38;5;250m \u001b[39m\u001b[38;5;28;01mimport\u001b[39;00m LpMinimize, LpProblem, LpVariable, lpSum\n",
      "\u001b[1;31mModuleNotFoundError\u001b[0m: No module named 'scipy'"
     ]
    }
   ],
   "source": [
    "import numpy as np\n",
    "import pandas as pd\n",
    "from scipy.spatial.distance import mahalanobis\n",
    "from scipy.linalg import inv\n",
    "from pulp import LpMinimize, LpProblem, LpVariable, lpSum\n",
    "\n",
    "# Sample data: Create synthetic treated and control groups\n",
    "data = pd.DataFrame({\n",
    "    'id': range(1, 11),\n",
    "    'pain': np.random.randint(1, 10, 10),\n",
    "    'urgency': np.random.randint(1, 10, 10),\n",
    "    'frequency': np.random.randint(1, 10, 10),\n",
    "    'treated': np.random.choice([0, 1], 10)  # 1 = treated, 0 = control\n",
    "})\n",
    "\n",
    "# Separate treated and control groups\n",
    "treated = data[data['treated'] == 1].reset_index(drop=True)\n",
    "control = data[data['treated'] == 0].reset_index(drop=True)\n",
    "\n",
    "# Compute covariance matrix and inverse for Mahalanobis distance\n",
    "cov_matrix = np.cov(data[['pain', 'urgency', 'frequency']].T)\n",
    "cov_inv = inv(cov_matrix)\n",
    "\n",
    "def compute_distance_matrix(treated, control):\n",
    "    \"\"\"Computes Mahalanobis distance matrix between treated and control groups.\"\"\"\n",
    "    distances = {}\n",
    "    for i, t in treated.iterrows():\n",
    "        for j, c in control.iterrows():\n",
    "            dist = mahalanobis(t[['pain', 'urgency', 'frequency']], \n",
    "                               c[['pain', 'urgency', 'frequency']], \n",
    "                               cov_inv)\n",
    "            distances[(i, j)] = dist\n",
    "    return distances\n",
    "\n",
    "# Compute distance matrix\n",
    "distance_matrix = compute_distance_matrix(treated, control)\n",
    "\n",
    "# Optimization problem setup\n",
    "prob = LpProblem(\"Balanced_Matching\", LpMinimize)\n",
    "\n",
    "# Define decision variables\n",
    "x = {pair: LpVariable(f\"x_{pair[0]}_{pair[1]}\", cat='Binary') for pair in distance_matrix.keys()}\n",
    "\n",
    "# Objective function: Minimize total distance\n",
    "prob += lpSum(distance_matrix[pair] * x[pair] for pair in distance_matrix.keys())\n",
    "\n",
    "# Constraints: Each treated patient is matched to one control\n",
    "for i in range(len(treated)):\n",
    "    prob += lpSum(x[(i, j)] for j in range(len(control)) if (i, j) in x) == 1\n",
    "\n",
    "# Each control patient is matched at most once\n",
    "for j in range(len(control)):\n",
    "    prob += lpSum(x[(i, j)] for i in range(len(treated)) if (i, j) in x) <= 1\n",
    "\n",
    "# Solve the optimization problem\n",
    "prob.solve()\n",
    "\n",
    "# Extract matched pairs\n",
    "matches = [(i, j) for (i, j) in x.keys() if x[(i, j)].value() == 1]\n",
    "print(\"Matched Pairs:\", matches)"
   ]
  },
  {
   "cell_type": "code",
   "execution_count": 5,
   "id": "7ae021e7-d9ce-483b-95b8-e6eaac1f266f",
   "metadata": {},
   "outputs": [
    {
     "name": "stdout",
     "output_type": "stream",
     "text": [
      "Collecting scipy\n",
      "  Obtaining dependency information for scipy from https://files.pythonhosted.org/packages/ff/ba/31c7a8131152822b3a2cdeba76398ffb404d81d640de98287d236da90c49/scipy-1.15.1-cp312-cp312-win_amd64.whl.metadata\n",
      "  Using cached scipy-1.15.1-cp312-cp312-win_amd64.whl.metadata (60 kB)\n",
      "Requirement already satisfied: numpy<2.5,>=1.23.5 in c:\\users\\gigabyte\\assignment_1_data_analytics\\env\\lib\\site-packages (from scipy) (2.2.2)\n",
      "Using cached scipy-1.15.1-cp312-cp312-win_amd64.whl (43.6 MB)\n",
      "Installing collected packages: scipy\n",
      "Successfully installed scipy-1.15.1\n"
     ]
    },
    {
     "name": "stderr",
     "output_type": "stream",
     "text": [
      "\n",
      "[notice] A new release of pip is available: 23.2.1 -> 25.0\n",
      "[notice] To update, run: python.exe -m pip install --upgrade pip\n"
     ]
    }
   ],
   "source": [
    "!pip install scipy\n",
    "\n"
   ]
  },
  {
   "cell_type": "code",
   "execution_count": null,
   "id": "7e510fd9-49ae-418f-9864-92bcdc646c52",
   "metadata": {},
   "outputs": [],
   "source": []
  }
 ],
 "metadata": {
  "kernelspec": {
   "display_name": "myproject_kernel",
   "language": "python",
   "name": "myproject_kernel"
  },
  "language_info": {
   "codemirror_mode": {
    "name": "ipython",
    "version": 3
   },
   "file_extension": ".py",
   "mimetype": "text/x-python",
   "name": "python",
   "nbconvert_exporter": "python",
   "pygments_lexer": "ipython3",
   "version": "3.12.0"
  }
 },
 "nbformat": 4,
 "nbformat_minor": 5
}
